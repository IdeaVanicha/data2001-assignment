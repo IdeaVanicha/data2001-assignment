{
 "cells": [
  {
   "cell_type": "markdown",
   "metadata": {},
   "source": [
    "# DATA2001 Assignment"
   ]
  },
  {
   "cell_type": "markdown",
   "metadata": {},
   "source": [
    "#First, we will begin by importing the various libraries."
   ]
  },
  {
   "cell_type": "markdown",
   "metadata": {
    "scrolled": true
   },
   "source": [
    "## Importing the libraries\n",
    "import pandas as pd\n",
    "import matplotlib as plot\n",
    "import numpy as np\n",
    "import geopandas as gpd"
   ]
  },
  {
   "cell_type": "code",
   "execution_count": null,
   "metadata": {},
   "outputs": [],
   "source": [
    "from __future__ import (absolute_import, division, print_function)\n",
    "import os\n",
    "import json\n",
    "\n",
    "import matplotlib as mpl\n",
    "import matplotlib.pyplot as plt\n",
    "\n",
    "from shapely.geometry import Point, Polygon, MultiPolygon\n",
    "import pandas as pd\n",
    "import geopandas as gpd\n",
    "from geopandas import GeoSeries, GeoDataFrame\n",
    "from geoalchemy2 import Geometry, WKTElement\n",
    "from sqlalchemy import *\n",
    "from sqlalchemy import create_engine\n",
    "import psycopg2\n",
    "import psycopg2.extras\n",
    "\n"
   ]
  },
  {
   "cell_type": "code",
   "execution_count": null,
   "metadata": {},
   "outputs": [],
   "source": [
    "data_path = \".\"\n",
    "\n",
    "def pgconnect(credential_filepath, db_schema=\"public\"):\n",
    "    with open(credential_filepath) as f:\n",
    "        db_conn_dict = json.load(f)\n",
    "        HOST       = db_conn_dict['host']\n",
    "        DB_USER    = db_conn_dict['user']\n",
    "        DB_PW      = db_conn_dict['password']\n",
    "        DEFAULT_DB = db_conn_dict['user']\n",
    "\n",
    "        try:\n",
    "            db = create_engine('postgres+psycopg2://'+DB_USER+':'+DB_PW+'@'+HOST+'/'+DEFAULT_DB, echo=False)\n",
    "            conn = db.connect()\n",
    "            print('connected')\n",
    "        except Exception as e:\n",
    "            print(\"unable to connect to the database\")\n",
    "            print(e)\n",
    "        return db,conn\n",
    "\n",
    "credfilepath = os.path.join(data_path, \"data2x01_db.json\")\n",
    "db, conn = pgconnect(credfilepath) #connect to pgAdmin\n",
    "\n",
    "print(db.table_names())\n",
    "print(\"I'm not working right now.\")"
   ]
  },
  {
   "cell_type": "markdown",
   "metadata": {},
   "source": [
    "Now, let's import the shape file"
   ]
  },
  {
   "cell_type": "code",
   "execution_count": null,
   "metadata": {},
   "outputs": [],
   "source": [
    "countries = gpd.read_file( os.path.join(\"/Users/sidath/Desktop/data2001-assignment/RFSNSW_BFPL\", \"RFSNSW_BFPL.shp\") )\n",
    "\n",
    "print(countries)"
   ]
  },
  {
   "cell_type": "markdown",
   "metadata": {},
   "source": [
    "Now let's connect this to a database."
   ]
  },
  {
   "cell_type": "code",
   "execution_count": null,
   "metadata": {},
   "outputs": [],
   "source": [
    "countries = countries.dropna()\n",
    "print(countries)"
   ]
  },
  {
   "cell_type": "code",
   "execution_count": null,
   "metadata": {},
   "outputs": [],
   "source": [
    "def pgexecute( conn, sqlcmd, args=None, msg='', silent=False ):\n",
    "    \"\"\" utility function to execute some SQL query statement\n",
    "       can take optional arguments to fill in (dictionary)\n",
    "       will print out on screen the result set of the query\n",
    "       error and transaction handling built-in \"\"\"\n",
    "    retval = False\n",
    "    result_set = None\n",
    "\n",
    "    try:\n",
    "        if args is None:\n",
    "            result_set = conn.execute(sqlcmd).fetchall()\n",
    "        else:\n",
    "            result_set = conn.execute(sqlcmd, args).fetchall()\n",
    "\n",
    "        if silent == False: \n",
    "            print(\"success: \" + msg)\n",
    "            for record in result_set:\n",
    "                print(record)\n",
    "        retval = True\n",
    "    except Exception as e:\n",
    "        if silent == False:\n",
    "            print(\"db read error: \")\n",
    "            print(e)\n",
    "    return retval\n",
    "\n",
    "def pgquery( conn, sqlcmd, args=None, silent=False ):\n",
    "    \"\"\" utility function to execute some SQL query statement\n",
    "    can take optional arguments to fill in (dictionary)\n",
    "    will print out on screen the result set of the query\n",
    "    error and transaction handling built-in \"\"\"\n",
    "    retdf = pd.DataFrame()\n",
    "    retval = False\n",
    "    try:\n",
    "        if args is None:\n",
    "            retdf = pd.read_sql_query(sqlcmd,conn)\n",
    "        else:\n",
    "            retdf = pd.read_sql_query(sqlcmd,conn,params=args)\n",
    "        if silent == False:\n",
    "            print(retdf.shape)\n",
    "            print(retdf.to_string())\n",
    "        retval = True\n",
    "    except Exception as e:\n",
    "        if silent == False:\n",
    "            print(\"db read error: \")\n",
    "            print(e)\n",
    "    return retval,retdf"
   ]
  },
  {
   "cell_type": "code",
   "execution_count": null,
   "metadata": {},
   "outputs": [],
   "source": [
    "# lets just make sure we have PostGIS working on our connection\n",
    "postgis_check = '''\n",
    "SELECT PostGIS_Version();\n",
    "'''\n",
    "\n",
    "retval,retdf = pgquery(conn,postgis_check)\n",
    "retdf"
   ]
  },
  {
   "cell_type": "code",
   "execution_count": null,
   "metadata": {},
   "outputs": [],
   "source": [
    "RFSNSW_BFPL = '''CREATE TABLE rfsnsw_bfpl (\n",
    "                     \"CATEGORY\" NUMERIC, \n",
    "                     \"SHAPE_LENG\" NUMERIC, \n",
    "                     \"SHAPE_AREA\" VARCHAR(50), \n",
    "                     location GEOMETRY(POINT,4326))''' \n",
    "\n",
    "conn.execute(\"DROP TABLE IF EXISTS rfsnsw_bfpl\")\n",
    "conn.execute(RFSNSW_BFPL)"
   ]
  },
  {
   "cell_type": "code",
   "execution_count": null,
   "metadata": {},
   "outputs": [],
   "source": []
  },
  {
   "cell_type": "code",
   "execution_count": null,
   "metadata": {},
   "outputs": [],
   "source": [
    "# Use GeoAlchemy's WKTElement to create a geom with SRID\n",
    "# NOTE :: This time we are assuming everything is a point so only wkt conversion is required.\n",
    "def create_wkt_point_element(geom,srid):\n",
    "    return WKTElement(geom.wkt, srid)\n",
    "\n",
    "\n"
   ]
  },
  {
   "cell_type": "code",
   "execution_count": null,
   "metadata": {},
   "outputs": [],
   "source": [
    "srid = 4326\n",
    "\n",
    "# since we are altering data again, we should create another copy\n",
    "citiesWkCpy = countries.copy()\n",
    "citiesWkCpy['location'] = citiesWkCpy['geometry'].apply(lambda x: create_wkt_point_element(geom=x,srid=srid))\n",
    "#delete the old column before insert\n",
    "citiesWkCpy = citiesWkCpy.drop(columns=\"geometry\")\n",
    "citiesWkCpy\n",
    "\n"
   ]
  },
  {
   "cell_type": "code",
   "execution_count": null,
   "metadata": {},
   "outputs": [],
   "source": [
    "# Then insert the data from the GeoPandas DataFrame to PostGIS Table\n",
    "# Use 'dtype' to specify column's type\n",
    "# For the geom column, we will use GeoAlchemy's type 'Geometry'\n",
    "cities_table_name = \"rfsnsw_bfpl\"\n",
    "citiesWkCpy.to_sql(cities_table_name, conn, if_exists='append', index=False, \n",
    "                         dtype={'location': Geometry('POINT', srid)})"
   ]
  },
  {
   "cell_type": "code",
   "execution_count": null,
   "metadata": {},
   "outputs": [],
   "source": [
    "query = \"SELECT COUNT(*) FROM rfsnsw_bfpl\"\n",
    "retval,retdf = pgquery(conn, query)\n",
    "retdf"
   ]
  },
  {
   "cell_type": "code",
   "execution_count": null,
   "metadata": {},
   "outputs": [],
   "source": []
  }
 ],
 "metadata": {
  "kernelspec": {
   "display_name": "Python 3",
   "language": "python",
   "name": "python3"
  },
  "language_info": {
   "codemirror_mode": {
    "name": "ipython",
    "version": 3
   },
   "file_extension": ".py",
   "mimetype": "text/x-python",
   "name": "python",
   "nbconvert_exporter": "python",
   "pygments_lexer": "ipython3",
   "version": "3.8.5"
  }
 },
 "nbformat": 4,
 "nbformat_minor": 4
}
