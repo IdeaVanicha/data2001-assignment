{
 "cells": [
  {
   "cell_type": "code",
   "execution_count": 5,
   "metadata": {},
   "outputs": [
    {
     "name": "stdout",
     "output_type": "stream",
     "text": [
      "connected\n",
      "['spatial_ref_sys', 'organisations', 'statisticalareas', 'Stonks']\n"
     ]
    }
   ],
   "source": [
    "from sqlalchemy import create_engine\n",
    "import psycopg2\n",
    "import psycopg2.extras\n",
    "import json\n",
    "import os\n",
    "\n",
    "data_path = \".\"\n",
    "\n",
    "def pgconnect(credential_filepath, db_schema=\"public\"):\n",
    "    # please replace <your_unikey> and <your_SID> with your own details in the credentials file!\n",
    "    with open(credential_filepath) as f:\n",
    "        db_conn_dict = json.load(f)\n",
    "        HOST       = db_conn_dict['host']\n",
    "        DB_USER    = db_conn_dict['user']\n",
    "        DB_PW      = db_conn_dict['password']\n",
    "        DEFAULT_DB = db_conn_dict['user']\n",
    "\n",
    "        try:\n",
    "            db = create_engine('postgres+psycopg2://'+DB_USER+':'+DB_PW+'@'+HOST+'/'+DEFAULT_DB, echo=False)\n",
    "            conn = db.connect()\n",
    "            print('connected')\n",
    "        except Exception as e:\n",
    "            print(\"unable to connect to the database\")\n",
    "            print(e)\n",
    "        return db,conn\n",
    "\n",
    "credfilepath = os.path.join(data_path, \"data2x02_db.json\")\n",
    "db, conn = pgconnect(credfilepath)\n",
    "\n",
    "print(db.table_names())"
   ]
  },
  {
   "cell_type": "code",
   "execution_count": null,
   "metadata": {},
   "outputs": [],
   "source": [
    "conn.execute(\"DROP TABLE IF EXISTS businessstats\")\n",
    "\n",
    "# 2nd: ensure that the schema is in place\n",
    "business_stats = \"\"\"CREATE TABLE IF NOT EXISTS businessstats (\n",
    "                         area_id      Integer PRIMARY KEY,\n",
    "                         area_name VARCHAR(20),\n",
    "                         parent_area_id Integer\n",
    "                   )\"\"\"\n",
    "conn.execute(business_stats)\n",
    "print(db.table_names())"
   ]
  }
 ],
 "metadata": {
  "kernelspec": {
   "display_name": "Python 3",
   "language": "python",
   "name": "python3"
  },
  "language_info": {
   "codemirror_mode": {
    "name": "ipython",
    "version": 3
   },
   "file_extension": ".py",
   "mimetype": "text/x-python",
   "name": "python",
   "nbconvert_exporter": "python",
   "pygments_lexer": "ipython3",
   "version": "3.8.5"
  }
 },
 "nbformat": 4,
 "nbformat_minor": 4
}
