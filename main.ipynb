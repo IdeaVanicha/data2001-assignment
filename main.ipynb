{
 "cells": [
  {
   "cell_type": "code",
   "execution_count": 3,
   "metadata": {},
   "outputs": [
    {
     "name": "stdout",
     "output_type": "stream",
     "text": [
      "hello world\n"
     ]
    }
   ],
   "source": [
    "print(\"hello world\")"
   ]
  },
  {
   "cell_type": "code",
   "execution_count": 3,
   "metadata": {},
   "outputs": [
    {
     "name": "stdout",
     "output_type": "stream",
     "text": [
      "here\n"
     ]
    }
   ],
   "source": [
    "print('here')\n",
    "\n"
   ]
  },
  {
   "cell_type": "code",
   "execution_count": 2,
   "metadata": {},
   "outputs": [
    {
     "name": "stdout",
     "output_type": "stream",
     "text": [
      "second commit\n"
     ]
    }
   ],
   "source": [
    "print(\"second commit\")"
   ]
  },
  {
   "cell_type": "code",
   "execution_count": 1,
   "metadata": {},
   "outputs": [
    {
     "name": "stdout",
     "output_type": "stream",
     "text": [
      "third commit\n"
     ]
    }
   ],
   "source": [
    "print (\"third commit\")"
   ]
  },
  {
   "cell_type": "code",
   "execution_count": 5,
   "metadata": {},
   "outputs": [],
   "source": [
    "import pandas as pd"
   ]
  },
  {
   "cell_type": "code",
   "execution_count": 8,
   "metadata": {},
   "outputs": [
    {
     "data": {
      "text/html": [
       "<div>\n",
       "<style scoped>\n",
       "    .dataframe tbody tr th:only-of-type {\n",
       "        vertical-align: middle;\n",
       "    }\n",
       "\n",
       "    .dataframe tbody tr th {\n",
       "        vertical-align: top;\n",
       "    }\n",
       "\n",
       "    .dataframe thead th {\n",
       "        text-align: right;\n",
       "    }\n",
       "</style>\n",
       "<table border=\"1\" class=\"dataframe\">\n",
       "  <thead>\n",
       "    <tr style=\"text-align: right;\">\n",
       "      <th></th>\n",
       "      <th>area_id</th>\n",
       "      <th>area_name</th>\n",
       "      <th>land_area</th>\n",
       "      <th>population</th>\n",
       "      <th>number_of_dwellings</th>\n",
       "      <th>number_of_businesses</th>\n",
       "      <th>median_annual_household_income</th>\n",
       "      <th>avg_monthly_rent</th>\n",
       "    </tr>\n",
       "  </thead>\n",
       "  <tbody>\n",
       "    <tr>\n",
       "      <th>0</th>\n",
       "      <td>102011028</td>\n",
       "      <td>Avoca Beach - Copacabana</td>\n",
       "      <td>643.8000</td>\n",
       "      <td>7590</td>\n",
       "      <td>2325</td>\n",
       "      <td>738.0</td>\n",
       "      <td>46996.0</td>\n",
       "      <td>1906.0</td>\n",
       "    </tr>\n",
       "    <tr>\n",
       "      <th>1</th>\n",
       "      <td>102011029</td>\n",
       "      <td>Box Head - MacMasters Beach</td>\n",
       "      <td>3208.6000</td>\n",
       "      <td>10986</td>\n",
       "      <td>3847</td>\n",
       "      <td>907.0</td>\n",
       "      <td>42621.0</td>\n",
       "      <td>1682.0</td>\n",
       "    </tr>\n",
       "    <tr>\n",
       "      <th>2</th>\n",
       "      <td>102011030</td>\n",
       "      <td>Calga - Kulnura</td>\n",
       "      <td>76795.1000</td>\n",
       "      <td>4841</td>\n",
       "      <td>1575</td>\n",
       "      <td>1102.0</td>\n",
       "      <td>42105.0</td>\n",
       "      <td>1182.0</td>\n",
       "    </tr>\n",
       "    <tr>\n",
       "      <th>3</th>\n",
       "      <td>102011031</td>\n",
       "      <td>Erina - Green Point</td>\n",
       "      <td>3379.3000</td>\n",
       "      <td>14237</td>\n",
       "      <td>4450</td>\n",
       "      <td>1666.0</td>\n",
       "      <td>43481.0</td>\n",
       "      <td>1595.0</td>\n",
       "    </tr>\n",
       "    <tr>\n",
       "      <th>4</th>\n",
       "      <td>102011032</td>\n",
       "      <td>Gosford - Springfield</td>\n",
       "      <td>1691.2000</td>\n",
       "      <td>19385</td>\n",
       "      <td>6373</td>\n",
       "      <td>2126.0</td>\n",
       "      <td>45972.0</td>\n",
       "      <td>1382.0</td>\n",
       "    </tr>\n",
       "    <tr>\n",
       "      <th>...</th>\n",
       "      <td>...</td>\n",
       "      <td>...</td>\n",
       "      <td>...</td>\n",
       "      <td>...</td>\n",
       "      <td>...</td>\n",
       "      <td>...</td>\n",
       "      <td>...</td>\n",
       "      <td>...</td>\n",
       "    </tr>\n",
       "    <tr>\n",
       "      <th>317</th>\n",
       "      <td>106011109</td>\n",
       "      <td>Cessnock Region</td>\n",
       "      <td>1570.4341</td>\n",
       "      <td>7,931</td>\n",
       "      <td>3,281</td>\n",
       "      <td>673.0</td>\n",
       "      <td>73164.0</td>\n",
       "      <td>1080.0</td>\n",
       "    </tr>\n",
       "    <tr>\n",
       "      <th>318</th>\n",
       "      <td>106011113</td>\n",
       "      <td>Singleton Region</td>\n",
       "      <td>4067.2349</td>\n",
       "      <td>4,919</td>\n",
       "      <td>2,055</td>\n",
       "      <td>698.0</td>\n",
       "      <td>87984.0</td>\n",
       "      <td>1000.0</td>\n",
       "    </tr>\n",
       "    <tr>\n",
       "      <th>319</th>\n",
       "      <td>111021218</td>\n",
       "      <td>Morisset - Cooranbong</td>\n",
       "      <td>330.5208</td>\n",
       "      <td>14,959</td>\n",
       "      <td>6,298</td>\n",
       "      <td>1154.0</td>\n",
       "      <td>58084.0</td>\n",
       "      <td>1260.0</td>\n",
       "    </tr>\n",
       "    <tr>\n",
       "      <th>320</th>\n",
       "      <td>114021285</td>\n",
       "      <td>Hill Top - Colo Vale</td>\n",
       "      <td>174.3752</td>\n",
       "      <td>6,025</td>\n",
       "      <td>2,249</td>\n",
       "      <td>400.0</td>\n",
       "      <td>81120.0</td>\n",
       "      <td>1512.0</td>\n",
       "    </tr>\n",
       "    <tr>\n",
       "      <th>321</th>\n",
       "      <td>114021289</td>\n",
       "      <td>Southern Highlands</td>\n",
       "      <td>1409.7013</td>\n",
       "      <td>6,589</td>\n",
       "      <td>3,405</td>\n",
       "      <td>856.0</td>\n",
       "      <td>65572.0</td>\n",
       "      <td>1200.0</td>\n",
       "    </tr>\n",
       "  </tbody>\n",
       "</table>\n",
       "<p>322 rows × 8 columns</p>\n",
       "</div>"
      ],
      "text/plain": [
       "       area_id                    area_name   land_area population  \\\n",
       "0    102011028     Avoca Beach - Copacabana    643.8000       7590   \n",
       "1    102011029  Box Head - MacMasters Beach   3208.6000      10986   \n",
       "2    102011030              Calga - Kulnura  76795.1000       4841   \n",
       "3    102011031          Erina - Green Point   3379.3000      14237   \n",
       "4    102011032        Gosford - Springfield   1691.2000      19385   \n",
       "..         ...                          ...         ...        ...   \n",
       "317  106011109              Cessnock Region   1570.4341      7,931   \n",
       "318  106011113             Singleton Region   4067.2349      4,919   \n",
       "319  111021218        Morisset - Cooranbong    330.5208     14,959   \n",
       "320  114021285         Hill Top - Colo Vale    174.3752      6,025   \n",
       "321  114021289           Southern Highlands   1409.7013      6,589   \n",
       "\n",
       "    number_of_dwellings  number_of_businesses  median_annual_household_income  \\\n",
       "0                  2325                 738.0                         46996.0   \n",
       "1                  3847                 907.0                         42621.0   \n",
       "2                  1575                1102.0                         42105.0   \n",
       "3                  4450                1666.0                         43481.0   \n",
       "4                  6373                2126.0                         45972.0   \n",
       "..                  ...                   ...                             ...   \n",
       "317               3,281                 673.0                         73164.0   \n",
       "318               2,055                 698.0                         87984.0   \n",
       "319               6,298                1154.0                         58084.0   \n",
       "320               2,249                 400.0                         81120.0   \n",
       "321               3,405                 856.0                         65572.0   \n",
       "\n",
       "     avg_monthly_rent  \n",
       "0              1906.0  \n",
       "1              1682.0  \n",
       "2              1182.0  \n",
       "3              1595.0  \n",
       "4              1382.0  \n",
       "..                ...  \n",
       "317            1080.0  \n",
       "318            1000.0  \n",
       "319            1260.0  \n",
       "320            1512.0  \n",
       "321            1200.0  \n",
       "\n",
       "[322 rows x 8 columns]"
      ]
     },
     "execution_count": 8,
     "metadata": {},
     "output_type": "execute_result"
    }
   ],
   "source": [
    "pd.read_csv('Neighbourhoods.csv')"
   ]
  },
  {
   "cell_type": "code",
   "execution_count": null,
   "metadata": {},
   "outputs": [],
   "source": []
  }
 ],
 "metadata": {
  "kernelspec": {
   "display_name": "Python 3",
   "language": "python",
   "name": "python3"
  },
  "language_info": {
   "codemirror_mode": {
    "name": "ipython",
    "version": 3
   },
   "file_extension": ".py",
   "mimetype": "text/x-python",
   "name": "python",
   "nbconvert_exporter": "python",
   "pygments_lexer": "ipython3",
   "version": "3.8.5"
  }
 },
 "nbformat": 4,
 "nbformat_minor": 4
}
